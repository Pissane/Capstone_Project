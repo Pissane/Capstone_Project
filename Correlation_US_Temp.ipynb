{
 "cells": [
  {
   "cell_type": "code",
   "execution_count": 1,
   "metadata": {},
   "outputs": [],
   "source": [
    "# Import get_engine function from sql_functions.py and set it to a variable called engine\n",
    "# Import all necessary libraries\n",
    "import pandas as pd\n",
    "import numpy as np\n",
    "import psycopg2 # needed to get database exception errors when uploading dataframe\n",
    "import requests # package for getting data from the web\n",
    "from zipfile import * # package for unzipping zip files\n",
    "import sqlalchemy\n",
    "from sql_functions import get_engine "
   ]
  },
  {
   "cell_type": "code",
   "execution_count": 2,
   "metadata": {},
   "outputs": [],
   "source": [
    "# Import the Information about the schema & table name\n",
    "schema = 'capstone_wildfire' \n",
    "table_name = 'combined_weather_data_v4'\n",
    "engine = get_engine()"
   ]
  },
  {
   "cell_type": "markdown",
   "metadata": {},
   "source": [
    "# Get fire_data as WF & weather_data as DF"
   ]
  },
  {
   "cell_type": "code",
   "execution_count": 3,
   "metadata": {},
   "outputs": [
    {
     "name": "stdout",
     "output_type": "stream",
     "text": [
      "             date  average_temp_c  minimum_temp_c  maximum_temp_c  \\\n",
      "0      1995-01-10             NaN             NaN             NaN   \n",
      "1      1995-05-24             NaN             NaN             NaN   \n",
      "2      1995-12-13             NaN             NaN             NaN   \n",
      "3      1995-03-11             NaN             NaN             NaN   \n",
      "4      1995-10-15             NaN             NaN             NaN   \n",
      "...           ...             ...             ...             ...   \n",
      "550409 2010-10-15            27.7            22.2            33.9   \n",
      "550410 2010-10-16            27.3            21.7            33.3   \n",
      "550411 2010-10-17            27.2            21.7            32.8   \n",
      "550412 2010-10-18            26.1            22.8            30.6   \n",
      "550413 2010-10-19            25.1            21.1            31.1   \n",
      "\n",
      "        precipitation_mm  snow_mm  wind_direction_deg  windspeed_kmh  \\\n",
      "0                    NaN      NaN                 NaN            NaN   \n",
      "1                    NaN      NaN                 NaN            NaN   \n",
      "2                    NaN      NaN                 NaN            NaN   \n",
      "3                    NaN      NaN                 NaN            NaN   \n",
      "4                    NaN      NaN                 NaN            NaN   \n",
      "...                  ...      ...                 ...            ...   \n",
      "550409               0.0      NaN                 NaN           10.1   \n",
      "550410               0.0      NaN                 NaN            6.1   \n",
      "550411               0.0      NaN                 NaN            7.9   \n",
      "550412               0.0      NaN                 NaN            7.9   \n",
      "550413               0.0      NaN                 NaN           13.0   \n",
      "\n",
      "        peak_wind_gust_kmh  air_pressure_hpa  sunshine_min station_id  \\\n",
      "0                      NaN               NaN           NaN      KBFI0   \n",
      "1                      NaN               NaN           NaN      KBFI0   \n",
      "2                      NaN               NaN           NaN      KBFI0   \n",
      "3                      NaN               NaN           NaN      KRDM0   \n",
      "4                      NaN               NaN           NaN      KYIP0   \n",
      "...                    ...               ...           ...        ...   \n",
      "550409                 NaN            1013.6           NaN      72278   \n",
      "550410                 NaN            1012.9           NaN      72278   \n",
      "550411                 NaN            1011.8           NaN      72278   \n",
      "550412                 NaN            1010.3           NaN      72278   \n",
      "550413                 NaN            1009.8           NaN      72278   \n",
      "\n",
      "              weather_station_name      states  latitude  longitude  \n",
      "0             Seattle / South Park  Washington   47.5300   -122.302  \n",
      "1             Seattle / South Park  Washington   47.5300   -122.302  \n",
      "2             Seattle / South Park  Washington   47.5300   -122.302  \n",
      "3                          Redmond      Oregon   44.2541   -121.150  \n",
      "4                 Detroit / Denton    Michigan   42.2393    -83.531  \n",
      "...                            ...         ...       ...        ...  \n",
      "550409  Phoenix Sky Harbor Airport     Arizona   33.4333   -112.050  \n",
      "550410  Phoenix Sky Harbor Airport     Arizona   33.4333   -112.050  \n",
      "550411  Phoenix Sky Harbor Airport     Arizona   33.4333   -112.050  \n",
      "550412  Phoenix Sky Harbor Airport     Arizona   33.4333   -112.050  \n",
      "550413  Phoenix Sky Harbor Airport     Arizona   33.4333   -112.050  \n",
      "\n",
      "[550414 rows x 16 columns]\n"
     ]
    }
   ],
   "source": [
    "# SQL-Abfrage, um Daten aus der Tabelle zu laden\n",
    "sql_query = \"SELECT * FROM capstone_wildfire.combined_weather_data_v4\"\n",
    "\n",
    "# Daten aus der Datenbank abrufen und in ein DataFrame laden\n",
    "df = pd.read_sql_query(sql_query, engine)\n",
    "\n",
    "# DataFrame anzeigen\n",
    "print(df)"
   ]
  },
  {
   "cell_type": "code",
   "execution_count": 4,
   "metadata": {},
   "outputs": [],
   "source": [
    "import pandas as pd\n",
    "\n",
    "# CSV Files aus weather_and_wildfires.ipynb laden\n",
    "wf = pd.read_csv('wild_fire_df.csv')"
   ]
  },
  {
   "cell_type": "code",
   "execution_count": 11,
   "metadata": {},
   "outputs": [],
   "source": [
    "wf['combined_control_date'] = pd.to_datetime(wf['combined_control_date'])\n",
    "wf['combined_discovery_date'] = pd.to_datetime(wf['combined_discovery_date'])"
   ]
  },
  {
   "cell_type": "code",
   "execution_count": 12,
   "metadata": {},
   "outputs": [],
   "source": [
    "# # SQL-Abfrage, um Daten aus der Tabelle zu laden\n",
    "# sql_query_wf = \"SELECT * FROM capstone_wildfire.fires_data_v1_rdy_to_clean_rows\"\n",
    "\n",
    "# # Daten aus der Datenbank abrufen und in ein DataFrame laden\n",
    "# wf = pd.read_sql_query(sql_query_wf, engine)\n",
    "\n",
    "# # DataFrame anzeigen\n",
    "# wf"
   ]
  },
  {
   "cell_type": "markdown",
   "metadata": {},
   "source": [
    "To perform the statistical analysis on the given datasets using numpy, you can follow these steps:\n",
    "Step 1: Import the required libraries\n",
    "import numpy done\n"
   ]
  },
  {
   "cell_type": "code",
   "execution_count": 13,
   "metadata": {},
   "outputs": [],
   "source": [
    "from scipy.stats import pearsonr, spearmanr, linregress, f_oneway\n"
   ]
  },
  {
   "cell_type": "code",
   "execution_count": 14,
   "metadata": {},
   "outputs": [],
   "source": [
    "# Assuming 'date' column in df is not datetime, convert it to datetime\n",
    "df['date'] = pd.to_datetime(df['date'])"
   ]
  },
  {
   "cell_type": "code",
   "execution_count": 15,
   "metadata": {},
   "outputs": [],
   "source": [
    "# Group 'df' data by 'date' and calculate the daily average temperature\n",
    "df_avg_temp = df.groupby(df['date'].dt.date)['average_temp_c'].mean().reset_index()"
   ]
  },
  {
   "cell_type": "code",
   "execution_count": 16,
   "metadata": {},
   "outputs": [],
   "source": [
    "# Select the 'average_temp_c' column from the weather dataset\n",
    "df_avg_temp = df_avg_temp[['date', 'average_temp_c']]"
   ]
  },
  {
   "cell_type": "code",
   "execution_count": 17,
   "metadata": {},
   "outputs": [],
   "source": [
    "# Create a new column 'day' by extracting the day from the date\n",
    "wf['day'] = wf['combined_discovery_date'].dt.date\n"
   ]
  },
  {
   "cell_type": "code",
   "execution_count": 18,
   "metadata": {},
   "outputs": [],
   "source": [
    "# Count the number of unique wildfires discovered on each day\n",
    "wf_agg = wf.groupby('day')['unique_id'].nunique().reset_index()\n",
    "wf_agg.columns = ['Day', 'Number of Wildfires']\n"
   ]
  },
  {
   "cell_type": "code",
   "execution_count": 19,
   "metadata": {},
   "outputs": [],
   "source": [
    "# Merge daily average temperature and wildfire data on the 'Day' column\n",
    "merged_data = pd.merge(df_avg_temp, wf_agg, left_on='date', right_on='Day')\n",
    "\n",
    "#This code will give you one 'weather data point' per day with the daily average temperature \n",
    "#for all 71 weather stations and the corresponding number of wildfires discovered on each day. \n",
    "#This merged data can then be used for Pearson Correlation analysis."
   ]
  },
  {
   "cell_type": "markdown",
   "metadata": {},
   "source": [
    "- wetterstationen, 71 insgesamt, 71 wetterstionen  seperat berechnet (das ist das problem )"
   ]
  },
  {
   "cell_type": "code",
   "execution_count": 21,
   "metadata": {},
   "outputs": [],
   "source": [
    "# Remove rows with missing values (NaN) in either column\n",
    "merged_data = merged_data.dropna(subset=['average_temp_c', 'Number of Wildfires'])"
   ]
  },
  {
   "cell_type": "markdown",
   "metadata": {},
   "source": [
    "VISUALISIERUNG THE RESULT:"
   ]
  },
  {
   "cell_type": "code",
   "execution_count": 22,
   "metadata": {},
   "outputs": [],
   "source": [
    "import matplotlib.pyplot as plt"
   ]
  },
  {
   "cell_type": "code",
   "execution_count": 23,
   "metadata": {},
   "outputs": [],
   "source": [
    "# Assuming you have calculated the correlation coefficient and p-value\n",
    "corr_coefficient = 0.297  \n",
    "p_value = 1.216"
   ]
  },
  {
   "cell_type": "markdown",
   "metadata": {},
   "source": [
    "Here's the code to create a grouped bar plot that displays both the correlation coefficient and the p-value:"
   ]
  },
  {
   "cell_type": "markdown",
   "metadata": {},
   "source": []
  },
  {
   "cell_type": "markdown",
   "metadata": {},
   "source": [
    "VISUALIZATION OF THE # Calculate the Pearson correlation coefficient and p-value\n",
    "#corr_coefficient, p_value = stats.pearsonr(merged_data['average_temp_c'], merged_data['Number of Wildfires'])\n",
    "\n",
    "# diese berechnung als plot , scata plot"
   ]
  },
  {
   "cell_type": "markdown",
   "metadata": {},
   "source": [
    "\n",
    "To visualize the Pearson correlation coefficient and p-value using a scatter plot in Python, you can create a scatter plot with the correlation coefficient on one axis and the negative logarithm (base 10) of the p-value on the other axis. This is a common approach to visualize correlation strength and statistical significance. Here's how you can do it.\n",
    "In this code, we calculate the negative logarithm (base 10) of the p-value to visualize its significance more effectively. The scatter plot shows the relationship between the correlation coefficient and the significance of the correlation."
   ]
  },
  {
   "cell_type": "code",
   "execution_count": 24,
   "metadata": {},
   "outputs": [
    {
     "ename": "NameError",
     "evalue": "name 'stats' is not defined",
     "output_type": "error",
     "traceback": [
      "\u001b[0;31m---------------------------------------------------------------------------\u001b[0m",
      "\u001b[0;31mNameError\u001b[0m                                 Traceback (most recent call last)",
      "\u001b[1;32m/Users/dome/Desktop/Pissane/Neuefische/capstone/Capstone_Project/Correlation_US_Temp.ipynb Cell 26\u001b[0m line \u001b[0;36m7\n\u001b[1;32m      <a href='vscode-notebook-cell:/Users/dome/Desktop/Pissane/Neuefische/capstone/Capstone_Project/Correlation_US_Temp.ipynb#X31sZmlsZQ%3D%3D?line=3'>4</a>\u001b[0m y \u001b[39m=\u001b[39m merged_data[\u001b[39m'\u001b[39m\u001b[39mNumber of Wildfires\u001b[39m\u001b[39m'\u001b[39m]\n\u001b[1;32m      <a href='vscode-notebook-cell:/Users/dome/Desktop/Pissane/Neuefische/capstone/Capstone_Project/Correlation_US_Temp.ipynb#X31sZmlsZQ%3D%3D?line=5'>6</a>\u001b[0m \u001b[39m# Creating the regression line\u001b[39;00m\n\u001b[0;32m----> <a href='vscode-notebook-cell:/Users/dome/Desktop/Pissane/Neuefische/capstone/Capstone_Project/Correlation_US_Temp.ipynb#X31sZmlsZQ%3D%3D?line=6'>7</a>\u001b[0m slope, intercept, r_value, p_value, std_err \u001b[39m=\u001b[39m stats\u001b[39m.\u001b[39mlinregress(x, y)\n\u001b[1;32m      <a href='vscode-notebook-cell:/Users/dome/Desktop/Pissane/Neuefische/capstone/Capstone_Project/Correlation_US_Temp.ipynb#X31sZmlsZQ%3D%3D?line=7'>8</a>\u001b[0m line \u001b[39m=\u001b[39m slope \u001b[39m*\u001b[39m x \u001b[39m+\u001b[39m intercept\n\u001b[1;32m     <a href='vscode-notebook-cell:/Users/dome/Desktop/Pissane/Neuefische/capstone/Capstone_Project/Correlation_US_Temp.ipynb#X31sZmlsZQ%3D%3D?line=9'>10</a>\u001b[0m plt\u001b[39m.\u001b[39mscatter(x, y, label\u001b[39m=\u001b[39m\u001b[39m'\u001b[39m\u001b[39mData Points\u001b[39m\u001b[39m'\u001b[39m, alpha\u001b[39m=\u001b[39m\u001b[39m0.5\u001b[39m)\n",
      "\u001b[0;31mNameError\u001b[0m: name 'stats' is not defined"
     ]
    },
    {
     "data": {
      "text/plain": [
       "<Figure size 1000x600 with 0 Axes>"
      ]
     },
     "metadata": {},
     "output_type": "display_data"
    }
   ],
   "source": [
    "# Creating a Scatterplot\n",
    "plt.figure(figsize=(10, 6))\n",
    "x = merged_data['average_temp_c']\n",
    "y = merged_data['Number of Wildfires']\n",
    "\n",
    "# Creating the regression line\n",
    "slope, intercept, r_value, p_value, std_err = stats.linregress(x, y)\n",
    "line = slope * x + intercept\n",
    "\n",
    "plt.scatter(x, y, label='Data Points', alpha=0.5)\n",
    "plt.plot(x, line, color='red', label=f'Regression Line (R-squared={r_value**2:.2f})')\n",
    "plt.title('Scatter Plot of Average Temperature vs. Number of Wildfires (1995-2015)')\n",
    "plt.xlabel('Average Temperature (°C)')\n",
    "plt.ylabel('Number of Wildfires')\n",
    "plt.legend()\n",
    "plt.grid(True)\n",
    "plt.show()"
   ]
  },
  {
   "cell_type": "markdown",
   "metadata": {},
   "source": [
    "NEW DIAGRAM 2.10.23\n"
   ]
  },
  {
   "cell_type": "code",
   "execution_count": null,
   "metadata": {},
   "outputs": [],
   "source": [
    "\n",
    "# Create new DataFrame from merged_df\n",
    "average_temp_c_rounded = merged_data[['date', 'average_temp_c', 'Number of Wildfires']] \n",
    "\n",
    "# Round temperatures to nearest integer\n",
    "average_temp_c_rounded['average_temp_c_rounded'] = average_temp_c_rounded['average_temp_c'].round().astype(int)\n",
    "\n",
    "# Groupby rounded temperature and sum fire counts\n",
    "average_temp_c_rounded = average_temp_c_rounded.groupby('average_temp_c_rounded')['Number of Wildfires'].sum().reset_index()\n",
    "\n",
    "# Rename columns\n",
    "average_temp_c_rounded.rename(columns={\n",
    "    'average_temp_c_rounded': 'temp_c', \n",
    "    'Number of Wildfires': 'total_fires'\n",
    "}, inplace=True)\n",
    "average_temp_c_rounded"
   ]
  },
  {
   "cell_type": "code",
   "execution_count": null,
   "metadata": {},
   "outputs": [],
   "source": [
    "\n",
    "\n",
    "# Streudiagramm mit einer Regressionslinie erstellen\n",
    "plt.figure(figsize=(10, 6))\n",
    "x = average_temp_c_rounded['temp_c']\n",
    "y = average_temp_c_rounded['total_fires']\n",
    "\n",
    "# Berechnung der Regressionslinie\n",
    "slope, intercept, r_value, p_value, std_err = stats.linregress(x, y)\n",
    "line = slope * x + intercept\n",
    "\n",
    "plt.scatter(x, y, label='Total fire', alpha=0.5)\n",
    "plt.plot(x, line, color='red', label=f'Regression Line (R-squared={r_value**2:.2f})')\n",
    "plt.title('Scatter Plot of Average Temperature vs. Number of Wildfires (1995-2015)')\n",
    "plt.xlabel('Average Temperature (°C)')\n",
    "plt.ylabel('Number of Wildfires')\n",
    "plt.legend()\n",
    "plt.grid(True)\n",
    "plt.show()"
   ]
  },
  {
   "cell_type": "code",
   "execution_count": null,
   "metadata": {},
   "outputs": [],
   "source": [
    "\n",
    "import pandas as pd\n",
    "import matplotlib.pyplot as plt\n",
    "from scipy import stats\n",
    "\n",
    "# Create new DataFrame from merged_df\n",
    "average_temp_c_rounded = merged_data[['date', 'average_temp_c', 'Number of Wildfires']] \n",
    "\n",
    "# Round temperatures to nearest integer\n",
    "average_temp_c_rounded['average_temp_c_rounded'] = average_temp_c_rounded['average_temp_c'].round().astype(int)\n",
    "\n",
    "# Groupby rounded temperature and sum fire counts\n",
    "average_temp_c_rounded = average_temp_c_rounded.groupby('average_temp_c_rounded')['Number of Wildfires'].sum().reset_index()\n",
    "\n",
    "# Rename columns\n",
    "average_temp_c_rounded.rename(columns={\n",
    "    'average_temp_c_rounded': 'temp_c', \n",
    "    'Number of Wildfires': 'total_fires'\n",
    "}, inplace=True)\n",
    "\n",
    "# Streudiagramm mit einer Regressionslinie erstellen\n",
    "plt.figure(figsize=(10, 6))\n",
    "x = average_temp_c_rounded['temp_c']\n",
    "y = average_temp_c_rounded['total_fires']\n",
    "\n",
    "# Berechnung der Regressionslinie\n",
    "slope, intercept, r_value, p_value, std_err = stats.linregress(x, y)\n",
    "line = slope * x + intercept\n",
    "\n",
    "# Calculate Pearson Correlation Coefficient and P-Value\n",
    "pearson_corr_coeff = r_value\n",
    "p_value = p_value\n",
    "\n",
    "plt.scatter(x, y, label=f'Data Points', alpha=0.5)\n",
    "plt.plot(x, line, color='red', label=f'Regression Line (R-squared={r_value**2:.2f})')\n",
    "plt.title('Scatter Plot of Average Temperature vs. Number of Wildfires (1995-2015)')\n",
    "plt.xlabel('Average Temperature (°C)')\n",
    "plt.ylabel('Number of Wildfires')\n",
    "\n",
    "# Annotate the Pearson Correlation Coefficient and P-Value\n",
    "plt.annotate(f'Pearson Correlation Coefficient: {pearson_corr_coeff:.4f}', (0.1, 0.85), xycoords='axes fraction', fontsize=12, color='green')\n",
    "plt.annotate(f'P-Value: {p_value:.4e}', (0.1, 0.80), xycoords='axes fraction', fontsize=12, color='blue')\n",
    "\n",
    "plt.legend()\n",
    "plt.grid(True)\n",
    "plt.show()\n"
   ]
  },
  {
   "cell_type": "code",
   "execution_count": null,
   "metadata": {},
   "outputs": [],
   "source": [
    "import matplotlib.pyplot as plt\n",
    "from scipy import stats\n",
    "import numpy as np\n",
    "\n",
    "# Create temperature blocks\n",
    "temperature_blocks = [-5, 5, 15, 25]\n",
    "\n",
    "# Categorize average temperatures into blocks\n",
    "merged_data['Temp Block'] = pd.cut(merged_data['average_temp_c'], bins=temperature_blocks)\n",
    "\n",
    "# Calculate the number of wildfires in each temperature block\n",
    "block_counts = merged_data.groupby('Temp Block')['Number of Wildfires'].sum()\n",
    "\n",
    "# Bar chart\n",
    "plt.figure(figsize=(10, 6))\n",
    "block_counts.plot(kind='bar', color='skyblue', alpha=0.7)\n",
    "plt.title('Number of Wildfires vs. Average Temperature Blocks (1995-2015)')\n",
    "plt.xlabel('Average Temperature Blocks (°C)')\n",
    "plt.ylabel('Number of Wildfires')\n",
    "plt.xticks(rotation=0)\n",
    "plt.grid(axis='y', linestyle='--', alpha=0.7)\n",
    "\n",
    "# Add labels to the bars\n",
    "for x, y in enumerate(block_counts):\n",
    "    plt.text(x, y + 10, str(y), ha='center')\n",
    "\n",
    "plt.show()\n"
   ]
  }
 ],
 "metadata": {
  "kernelspec": {
   "display_name": "nf_sql",
   "language": "python",
   "name": "python3"
  },
  "language_info": {
   "codemirror_mode": {
    "name": "ipython",
    "version": 3
   },
   "file_extension": ".py",
   "mimetype": "text/x-python",
   "name": "python",
   "nbconvert_exporter": "python",
   "pygments_lexer": "ipython3",
   "version": "3.9.17"
  },
  "orig_nbformat": 4
 },
 "nbformat": 4,
 "nbformat_minor": 2
}
