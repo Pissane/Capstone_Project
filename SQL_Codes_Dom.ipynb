{
 "cells": [
  {
   "cell_type": "code",
   "metadata": {},
   "source": [
    "-- Create a new table to hold the combined data\n",
    "CREATE TABLE combined_weather_data (\n",
    "    weather_date Text,\n",
    "    weather_tavg Text,\n",
    "    weather_tmin FLOAT,\n",
    "    weather_tmax FLOAT,\n",
    "    weather_prcp Text,\n",
    "    weather_snow Text,\n",
    "    weather_wdir Text,\n",
    "    weather_wspd Text,\n",
    "    weather_wpgt Text,\n",
    "    weather_pres Text,\n",
    "    weather_tsun Text,\n",
    "    station_id Text,\n",
    "    weather_station_name TEXT\n",
    ");\n",
    "\n",
    "INSERT INTO combined_weather_data\n",
    "SELECT * FROM \"weather_1995-1996\";\n",
    "\n",
    "-- Insert data from the second dataset (including 1996-01-01)\n",
    "INSERT INTO combined_weather_data\n",
    "SELECT * FROM \"weather_1996-2005\";\n",
    "\n",
    "INSERT INTO combined_weather_data\n",
    "SELECT * FROM \"weather_2005-2013\";\n",
    "\n",
    "INSERT INTO combined_weather_data\n",
    "SELECT * FROM \"weather_2014-2015\";\n",
    "\n",
    "---count of rows in weather_1995-1996\n",
    "SELECT count (*)\n",
    "FROM \"weather_1995-1996\";\n"
   ]
  }
 ],
 "metadata": {
  "language_info": {
   "name": "python"
  },
  "orig_nbformat": 4
 },
 "nbformat": 4,
 "nbformat_minor": 2
}
