{
 "cells": [
  {
   "cell_type": "markdown",
   "metadata": {},
   "source": [
    "Import needed libaries"
   ]
  },
  {
   "cell_type": "code",
   "execution_count": 1,
   "metadata": {},
   "outputs": [],
   "source": [
    "from dotenv import dotenv_values\n",
    "import sqlalchemy\n",
    "import pandas as pd\n",
    "import sql_functions as sf\n",
    "import matplotlib.pyplot as plt"
   ]
  },
  {
   "cell_type": "markdown",
   "metadata": {},
   "source": [
    "Define schema & engine to call df from Database"
   ]
  },
  {
   "cell_type": "code",
   "execution_count": 2,
   "metadata": {},
   "outputs": [],
   "source": [
    "schema = 'capstone_wildfire'\n",
    "engine = sf.get_engine()"
   ]
  },
  {
   "cell_type": "markdown",
   "metadata": {},
   "source": [
    "Define the table & query "
   ]
  },
  {
   "cell_type": "code",
   "execution_count": 3,
   "metadata": {},
   "outputs": [],
   "source": [
    "sql_query = f'select * from {schema}.fires_data_v1_rdy_to_clean_rows;'"
   ]
  },
  {
   "cell_type": "markdown",
   "metadata": {},
   "source": [
    "Get datatable as dataframe"
   ]
  },
  {
   "cell_type": "code",
   "execution_count": 4,
   "metadata": {},
   "outputs": [],
   "source": [
    "wild_fire_df = sf.get_dataframe(sql_query)"
   ]
  },
  {
   "cell_type": "markdown",
   "metadata": {},
   "source": [
    "Get the count of fires per year per state "
   ]
  },
  {
   "cell_type": "code",
   "execution_count": 6,
   "metadata": {},
   "outputs": [
    {
     "name": "stdout",
     "output_type": "stream",
     "text": [
      "     state_name  year  fire_count\n",
      "0       Alabama  1995        4230\n",
      "1       Alabama  1996        4048\n",
      "2       Alabama  1997        2591\n",
      "3       Alabama  1998        3566\n",
      "4       Alabama  1999        4501\n",
      "...         ...   ...         ...\n",
      "1034    Wyoming  2011         640\n",
      "1035    Wyoming  2012        1045\n",
      "1036    Wyoming  2013         581\n",
      "1037    Wyoming  2014         595\n",
      "1038    Wyoming  2015         632\n",
      "\n",
      "[1039 rows x 3 columns]\n"
     ]
    }
   ],
   "source": [
    "# Extract the year from the 'combined_discovery_date' column\n",
    "wild_fire_df['year'] = wild_fire_df['combined_discovery_date'].dt.year\n",
    "\n",
    "# Group the DataFrame by 'state', 'year', and count the unique 'unique_id' values\n",
    "fire_counts = wild_fire_df.groupby(['state_name', 'year'])['unique_id'].nunique().reset_index()\n",
    "\n",
    "# Rename the count column\n",
    "fire_counts.rename(columns={'unique_id': 'fire_count'}, inplace=True)\n",
    "\n",
    "# Print the result\n",
    "print(fire_counts)\n"
   ]
  },
  {
   "cell_type": "markdown",
   "metadata": {},
   "source": [
    "Get the count of fires per year per category "
   ]
  },
  {
   "cell_type": "code",
   "execution_count": 7,
   "metadata": {},
   "outputs": [
    {
     "name": "stdout",
     "output_type": "stream",
     "text": [
      "    cause_descr  year  fire_count_category\n",
      "0         Arson  1995                12648\n",
      "1         Arson  1996                10205\n",
      "2         Arson  1997                10936\n",
      "3         Arson  1998                14102\n",
      "4         Arson  1999                19282\n",
      "..          ...   ...                  ...\n",
      "268   Structure  2011                  240\n",
      "269   Structure  2012                  357\n",
      "270   Structure  2013                  237\n",
      "271   Structure  2014                  284\n",
      "272   Structure  2015                  335\n",
      "\n",
      "[273 rows x 3 columns]\n"
     ]
    }
   ],
   "source": [
    "# Extract the year from the 'combined_discovery_date' column\n",
    "wild_fire_df['year'] = wild_fire_df['combined_discovery_date'].dt.year\n",
    "\n",
    "# Group the DataFrame by 'state', 'year', and count the unique 'unique_id' values\n",
    "fire_counts_category = wild_fire_df.groupby(['cause_descr', 'year'])['unique_id'].nunique().reset_index()\n",
    "\n",
    "# Rename the count column\n",
    "fire_counts_category.rename(columns={'unique_id': 'fire_count_category'}, inplace=True)\n",
    "\n",
    "# Print the result\n",
    "print(fire_counts_category)"
   ]
  },
  {
   "cell_type": "markdown",
   "metadata": {},
   "source": [
    "Avg ha burned per category per year "
   ]
  },
  {
   "cell_type": "code",
   "execution_count": null,
   "metadata": {},
   "outputs": [],
   "source": [
    "# Extract the year from the 'combined_discovery_date' column\n",
    "wild_fire_df['year'] = wild_fire_df['combined_discovery_date'].dt.year\n",
    "\n",
    "# Group the DataFrame by 'cause_descr' and 'year', then calculate the average 'fire_size' per group\n",
    "avg_burned_ha_per_category_per_year = wild_fire_df.groupby(['cause_descr', 'year'])['fire_size'].mean().reset_index()\n",
    "\n",
    "# Rename the 'fire_size' column to 'avg_burned_ha'\n",
    "avg_burned_ha_per_category_per_year.rename(columns={'fire_size': 'avg_burned_ha'}, inplace=True)\n",
    "\n",
    "# Print the result\n",
    "print(avg_burned_ha_per_category_per_year)"
   ]
  },
  {
   "cell_type": "markdown",
   "metadata": {},
   "source": [
    "Number of fire_class by category by Year"
   ]
  },
  {
   "cell_type": "code",
   "execution_count": 111,
   "metadata": {},
   "outputs": [
    {
     "name": "stdout",
     "output_type": "stream",
     "text": [
      "    year    fire_size  fire_size_class    result\n",
      "0   1995  2907.145000            23912  0.121577\n",
      "1   1996  2968.250000            25119  0.118168\n",
      "2   1997  2597.470000            21662  0.119909\n",
      "3   1998  2836.700000            23406  0.121195\n",
      "4   1999  3399.385300            27560  0.123345\n",
      "5   2000  3841.495000            33060  0.116198\n",
      "6   2001  3735.989000            31129  0.120016\n",
      "7   2002  3282.973759            27476  0.119485\n",
      "8   2003  3276.026580            28261  0.115920\n",
      "9   2004  3231.868990            27354  0.118150\n",
      "10  2005  3422.344000            28483  0.120154\n",
      "11  2006  4126.296600            34049  0.121187\n",
      "12  2007  4024.919000            33839  0.118943\n",
      "13  2008  3387.711960            27848  0.121650\n",
      "14  2009  3215.613280            27165  0.118373\n",
      "15  2010  3413.650890            28714  0.118885\n",
      "16  2011  3333.277500            28677  0.116235\n",
      "17  2012  3272.380000            27346  0.119666\n",
      "18  2013  3322.297010            28004  0.118637\n",
      "19  2014  3202.813700            27254  0.117517\n",
      "20  2015  3611.580100            32347  0.111651\n"
     ]
    }
   ],
   "source": [
    "# Filter the data to only include rows where 'fire_size_class' is 'A'\n",
    "filtered_data = wild_fire_df[wild_fire_df['fire_size_class'] == 'A']\n",
    "\n",
    "# Group the filtered data by the year and calculate the sum of 'fire_size' for each year\n",
    "yearly_sum = filtered_data.groupby('year')['fire_size'].sum().reset_index()\n",
    "\n",
    "# Count the number of occurrences of 'A' in the 'fire_size_class' column for each year\n",
    "yearly_A_count = wild_fire_df[wild_fire_df['fire_size_class'] == 'A'].groupby('year')['fire_size_class'].count().reset_index()\n",
    "\n",
    "# Merge the two DataFrames on the 'year' column\n",
    "result = pd.merge(yearly_sum, yearly_A_count, on='year')\n",
    "\n",
    "# Calculate the final result by dividing the sum of 'fire_size' by the count of 'A's for each year\n",
    "result['result'] = result['fire_size'] / result['fire_size_class']\n",
    "\n",
    "# Display the result DataFrame\n",
    "print(result)\n"
   ]
  },
  {
   "cell_type": "markdown",
   "metadata": {},
   "source": [
    "Combine all df into one"
   ]
  },
  {
   "cell_type": "markdown",
   "metadata": {},
   "source": []
  },
  {
   "cell_type": "code",
   "execution_count": 52,
   "metadata": {},
   "outputs": [
    {
     "data": {
      "text/html": [
       "<div>\n",
       "<style scoped>\n",
       "    .dataframe tbody tr th:only-of-type {\n",
       "        vertical-align: middle;\n",
       "    }\n",
       "\n",
       "    .dataframe tbody tr th {\n",
       "        vertical-align: top;\n",
       "    }\n",
       "\n",
       "    .dataframe thead th {\n",
       "        text-align: right;\n",
       "    }\n",
       "</style>\n",
       "<table border=\"1\" class=\"dataframe\">\n",
       "  <thead>\n",
       "    <tr style=\"text-align: right;\">\n",
       "      <th></th>\n",
       "      <th>category</th>\n",
       "      <th>state</th>\n",
       "      <th>Total Fires (Current Year)</th>\n",
       "      <th>Percentage Difference</th>\n",
       "    </tr>\n",
       "  </thead>\n",
       "  <tbody>\n",
       "    <tr>\n",
       "      <th>0</th>\n",
       "      <td>Current Year</td>\n",
       "      <td>Texas</td>\n",
       "      <td>8304</td>\n",
       "      <td>-2.740689</td>\n",
       "    </tr>\n",
       "    <tr>\n",
       "      <th>1</th>\n",
       "      <td>Current Year</td>\n",
       "      <td>California</td>\n",
       "      <td>7365</td>\n",
       "      <td>-13.738580</td>\n",
       "    </tr>\n",
       "    <tr>\n",
       "      <th>2</th>\n",
       "      <td>Current Year</td>\n",
       "      <td>Kansas</td>\n",
       "      <td>5887</td>\n",
       "      <td>-31.049426</td>\n",
       "    </tr>\n",
       "  </tbody>\n",
       "</table>\n",
       "</div>"
      ],
      "text/plain": [
       "       category       state  Total Fires (Current Year)  Percentage Difference\n",
       "0  Current Year       Texas                        8304              -2.740689\n",
       "1  Current Year  California                        7365             -13.738580\n",
       "2  Current Year      Kansas                        5887             -31.049426"
      ]
     },
     "execution_count": 52,
     "metadata": {},
     "output_type": "execute_result"
    }
   ],
   "source": [
    "import pandas as pd\n",
    "import matplotlib.pyplot as plt\n",
    "\n",
    "# Filter the dataset for the year 2015\n",
    "wild_fire_2015 = wild_fire_df[wild_fire_df['year'] == 2015]\n",
    "\n",
    "# Filter the dataset for the previous year (2014)\n",
    "wild_fire_2014 = wild_fire_df[wild_fire_df['year'] == 2014]\n",
    "\n",
    "# Group by state and count the number of fires for 2015 and 2014\n",
    "state_counts_2015 = wild_fire_2015['state_name'].value_counts().sort_values(ascending=False)\n",
    "state_counts_2014 = wild_fire_2014['state_name'].value_counts().sort_values(ascending=False)\n",
    "\n",
    "# Take the top 3 states for 2015\n",
    "top_3_states_2015 = state_counts_2015.head(3)\n",
    "\n",
    "# Find the state with the highest count in 2014\n",
    "highest_count_state_2014 = state_counts_2014.index[0]\n",
    "\n",
    "# Create a new DataFrame in the desired format for 2015\n",
    "top_3_states_df = pd.DataFrame({\n",
    "    'category': ['Current Year'] * 3,  # All 3 states in the same year\n",
    "    'state': top_3_states_2015.index.tolist(),\n",
    "    'Total Fires (Current Year)': top_3_states_2015.values.tolist()\n",
    "})\n",
    "\n",
    "# Calculate the percentage difference for each state and multiply by 100 to express as a percentage\n",
    "top_3_states_df['Percentage Difference'] = [\n",
    "    ((count_2015 - state_counts_2014.get(highest_count_state_2014, 0)) / state_counts_2014.get(highest_count_state_2014, 1)) * 100\n",
    "    for count_2015 in top_3_states_df['Total Fires (Current Year)']\n",
    "]\n",
    "\n",
    "# Print the DataFrame\n",
    "top_3_states_df\n"
   ]
  },
  {
   "cell_type": "code",
   "execution_count": 105,
   "metadata": {},
   "outputs": [],
   "source": [
    "import pandas as pd\n",
    "\n",
    "def create_df(wildfire_df, input_year):\n",
    "\n",
    "  # Get fires for current year \n",
    "  current_year = wildfire_df[wildfire_df['combined_discovery_date'].dt.year == input_year].groupby('state_name')['unique_id'].count().sort_values(ascending=False).head(3)\n",
    "  current_year = pd.DataFrame({'state_name': current_year.index, 'fire_count': current_year, 'category': 'Current Year'})\n",
    "\n",
    "  # Get fires for previous year\n",
    "  previous_year = wildfire_df[wildfire_df['combined_discovery_date'].dt.year == input_year - 1].groupby('state_name')['unique_id'].count().sort_values(ascending=False).head(3)\n",
    "  previous_year = pd.DataFrame({'state_name': previous_year.index, 'fire_count': previous_year, 'category': 'Previous Year'})\n",
    "\n",
    " # Rest of code...\n",
    "\n",
    "  result = pd.concat([current_year, previous_year])\n",
    "\n",
    "  return result"
   ]
  },
  {
   "cell_type": "code",
   "execution_count": 106,
   "metadata": {},
   "outputs": [
    {
     "data": {
      "text/html": [
       "<div>\n",
       "<style scoped>\n",
       "    .dataframe tbody tr th:only-of-type {\n",
       "        vertical-align: middle;\n",
       "    }\n",
       "\n",
       "    .dataframe tbody tr th {\n",
       "        vertical-align: top;\n",
       "    }\n",
       "\n",
       "    .dataframe thead th {\n",
       "        text-align: right;\n",
       "    }\n",
       "</style>\n",
       "<table border=\"1\" class=\"dataframe\">\n",
       "  <thead>\n",
       "    <tr style=\"text-align: right;\">\n",
       "      <th></th>\n",
       "      <th>state_name</th>\n",
       "      <th>fire_count</th>\n",
       "      <th>category</th>\n",
       "    </tr>\n",
       "    <tr>\n",
       "      <th>state_name</th>\n",
       "      <th></th>\n",
       "      <th></th>\n",
       "      <th></th>\n",
       "    </tr>\n",
       "  </thead>\n",
       "  <tbody>\n",
       "    <tr>\n",
       "      <th>Texas</th>\n",
       "      <td>Texas</td>\n",
       "      <td>8538</td>\n",
       "      <td>Current Year</td>\n",
       "    </tr>\n",
       "    <tr>\n",
       "      <th>California</th>\n",
       "      <td>California</td>\n",
       "      <td>6494</td>\n",
       "      <td>Current Year</td>\n",
       "    </tr>\n",
       "    <tr>\n",
       "      <th>North Carolina</th>\n",
       "      <td>North Carolina</td>\n",
       "      <td>4587</td>\n",
       "      <td>Current Year</td>\n",
       "    </tr>\n",
       "    <tr>\n",
       "      <th>Texas</th>\n",
       "      <td>Texas</td>\n",
       "      <td>9735</td>\n",
       "      <td>Previous Year</td>\n",
       "    </tr>\n",
       "    <tr>\n",
       "      <th>California</th>\n",
       "      <td>California</td>\n",
       "      <td>8723</td>\n",
       "      <td>Previous Year</td>\n",
       "    </tr>\n",
       "    <tr>\n",
       "      <th>Colorado</th>\n",
       "      <td>Colorado</td>\n",
       "      <td>3894</td>\n",
       "      <td>Previous Year</td>\n",
       "    </tr>\n",
       "  </tbody>\n",
       "</table>\n",
       "</div>"
      ],
      "text/plain": [
       "                    state_name  fire_count       category\n",
       "state_name                                               \n",
       "Texas                    Texas        8538   Current Year\n",
       "California          California        6494   Current Year\n",
       "North Carolina  North Carolina        4587   Current Year\n",
       "Texas                    Texas        9735  Previous Year\n",
       "California          California        8723  Previous Year\n",
       "Colorado              Colorado        3894  Previous Year"
      ]
     },
     "execution_count": 106,
     "metadata": {},
     "output_type": "execute_result"
    }
   ],
   "source": [
    "df = create_df(wild_fire_df, input_year=2014,)\n",
    "\n",
    "df"
   ]
  },
  {
   "cell_type": "markdown",
   "metadata": {},
   "source": [
    "Added the percentage difference for the previous year"
   ]
  },
  {
   "cell_type": "code",
   "execution_count": 107,
   "metadata": {},
   "outputs": [],
   "source": [
    "import pandas as pd\n",
    "\n",
    "def create_df(wildfire_df, input_year):\n",
    "\n",
    "  # Get fires for current and previous year\n",
    "  current_year = wildfire_df[wildfire_df['combined_discovery_date'].dt.year == input_year].groupby('state_name')['unique_id'].count().sort_values(ascending=False).head(3)\n",
    "  previous_year = wildfire_df[wildfire_df['combined_discovery_date'].dt.year == input_year - 1].groupby('state_name')['unique_id'].count().sort_values(ascending=False).head(3)\n",
    "\n",
    "  current_year = pd.DataFrame({'fire_count': current_year, 'category': 'Current Year'})\n",
    "  previous_year = pd.DataFrame({'fire_count': previous_year, 'category': 'Previous Year'})\n",
    "\n",
    "  # Calculate percentage difference\n",
    "  for i in range(3):\n",
    "    current_top = current_year.iloc[i]['fire_count']\n",
    "    prev_top = previous_year.iloc[i]['fire_count']\n",
    "    perc_diff = (current_top - prev_top) / prev_top * 100\n",
    "    current_year.at[current_year.index[i], 'perc_diff'] = perc_diff\n",
    "\n",
    "  # Set index name to state_name\n",
    "  current_year.index.name = 'state_name'\n",
    "  previous_year.index.name = 'state_name'\n",
    "\n",
    "  # Rest of code...\n",
    "\n",
    "  result = pd.concat([current_year, previous_year])\n",
    "\n",
    "  return result"
   ]
  },
  {
   "cell_type": "code",
   "execution_count": 108,
   "metadata": {},
   "outputs": [
    {
     "data": {
      "text/html": [
       "<div>\n",
       "<style scoped>\n",
       "    .dataframe tbody tr th:only-of-type {\n",
       "        vertical-align: middle;\n",
       "    }\n",
       "\n",
       "    .dataframe tbody tr th {\n",
       "        vertical-align: top;\n",
       "    }\n",
       "\n",
       "    .dataframe thead th {\n",
       "        text-align: right;\n",
       "    }\n",
       "</style>\n",
       "<table border=\"1\" class=\"dataframe\">\n",
       "  <thead>\n",
       "    <tr style=\"text-align: right;\">\n",
       "      <th></th>\n",
       "      <th>fire_count</th>\n",
       "      <th>category</th>\n",
       "      <th>perc_diff</th>\n",
       "    </tr>\n",
       "    <tr>\n",
       "      <th>state_name</th>\n",
       "      <th></th>\n",
       "      <th></th>\n",
       "      <th></th>\n",
       "    </tr>\n",
       "  </thead>\n",
       "  <tbody>\n",
       "    <tr>\n",
       "      <th>Texas</th>\n",
       "      <td>8304</td>\n",
       "      <td>Current Year</td>\n",
       "      <td>-2.740689</td>\n",
       "    </tr>\n",
       "    <tr>\n",
       "      <th>California</th>\n",
       "      <td>7365</td>\n",
       "      <td>Current Year</td>\n",
       "      <td>13.412381</td>\n",
       "    </tr>\n",
       "    <tr>\n",
       "      <th>Kansas</th>\n",
       "      <td>5887</td>\n",
       "      <td>Current Year</td>\n",
       "      <td>28.340964</td>\n",
       "    </tr>\n",
       "    <tr>\n",
       "      <th>Texas</th>\n",
       "      <td>8538</td>\n",
       "      <td>Previous Year</td>\n",
       "      <td>NaN</td>\n",
       "    </tr>\n",
       "    <tr>\n",
       "      <th>California</th>\n",
       "      <td>6494</td>\n",
       "      <td>Previous Year</td>\n",
       "      <td>NaN</td>\n",
       "    </tr>\n",
       "    <tr>\n",
       "      <th>North Carolina</th>\n",
       "      <td>4587</td>\n",
       "      <td>Previous Year</td>\n",
       "      <td>NaN</td>\n",
       "    </tr>\n",
       "  </tbody>\n",
       "</table>\n",
       "</div>"
      ],
      "text/plain": [
       "                fire_count       category  perc_diff\n",
       "state_name                                          \n",
       "Texas                 8304   Current Year  -2.740689\n",
       "California            7365   Current Year  13.412381\n",
       "Kansas                5887   Current Year  28.340964\n",
       "Texas                 8538  Previous Year        NaN\n",
       "California            6494  Previous Year        NaN\n",
       "North Carolina        4587  Previous Year        NaN"
      ]
     },
     "execution_count": 108,
     "metadata": {},
     "output_type": "execute_result"
    }
   ],
   "source": [
    "create_df(wild_fire_df, 2015)"
   ]
  },
  {
   "cell_type": "markdown",
   "metadata": {},
   "source": [
    "Calculating the burned Acres"
   ]
  },
  {
   "cell_type": "code",
   "execution_count": 109,
   "metadata": {},
   "outputs": [],
   "source": [
    "import pandas as pd \n",
    "\n",
    "def create_df(wildfire_df, input_year):\n",
    "\n",
    "  # Get burned acres for current and previous year\n",
    "  current_year = wildfire_df[wildfire_df['combined_discovery_date'].dt.year == input_year].groupby('state_name')['fire_size'].sum().sort_values(ascending=False).head(3)\n",
    "\n",
    "  previous_year = wildfire_df[wildfire_df['combined_discovery_date'].dt.year == input_year - 1].groupby('state_name')['fire_size'].sum().sort_values(ascending=False).head(3)\n",
    "\n",
    "  current_year = pd.DataFrame({'burned_acres': current_year, 'category': 'Current Year'})  \n",
    "  previous_year = pd.DataFrame({'burned_acres': previous_year, 'category': 'Previous Year'})\n",
    "\n",
    "  # Calculate percentage difference\n",
    "  for i in range(3):\n",
    "    current_top = current_year.iloc[i]['burned_acres']\n",
    "    prev_top = previous_year.iloc[i]['burned_acres']\n",
    "    perc_diff = (current_top - prev_top) / prev_top * 100\n",
    "    current_year.at[current_year.index[i], 'perc_diff'] = perc_diff  \n",
    "\n",
    "  # Set index name to state_name\n",
    "  current_year.index.name = 'state_name'\n",
    "  previous_year.index.name = 'state_name'\n",
    "\n",
    "  # Rest of code...\n",
    "\n",
    "  result = pd.concat([current_year, previous_year])\n",
    "\n",
    "  return result"
   ]
  },
  {
   "cell_type": "code",
   "execution_count": 110,
   "metadata": {},
   "outputs": [
    {
     "data": {
      "text/html": [
       "<div>\n",
       "<style scoped>\n",
       "    .dataframe tbody tr th:only-of-type {\n",
       "        vertical-align: middle;\n",
       "    }\n",
       "\n",
       "    .dataframe tbody tr th {\n",
       "        vertical-align: top;\n",
       "    }\n",
       "\n",
       "    .dataframe thead th {\n",
       "        text-align: right;\n",
       "    }\n",
       "</style>\n",
       "<table border=\"1\" class=\"dataframe\">\n",
       "  <thead>\n",
       "    <tr style=\"text-align: right;\">\n",
       "      <th></th>\n",
       "      <th>burned_acres</th>\n",
       "      <th>category</th>\n",
       "      <th>perc_diff</th>\n",
       "    </tr>\n",
       "    <tr>\n",
       "      <th>state_name</th>\n",
       "      <th></th>\n",
       "      <th></th>\n",
       "      <th></th>\n",
       "    </tr>\n",
       "  </thead>\n",
       "  <tbody>\n",
       "    <tr>\n",
       "      <th>Washington</th>\n",
       "      <td>1161646.38</td>\n",
       "      <td>Current Year</td>\n",
       "      <td>24.362830</td>\n",
       "    </tr>\n",
       "    <tr>\n",
       "      <th>California</th>\n",
       "      <td>848728.61</td>\n",
       "      <td>Current Year</td>\n",
       "      <td>55.195016</td>\n",
       "    </tr>\n",
       "    <tr>\n",
       "      <th>Idaho</th>\n",
       "      <td>791026.11</td>\n",
       "      <td>Current Year</td>\n",
       "      <td>75.822292</td>\n",
       "    </tr>\n",
       "    <tr>\n",
       "      <th>Oregon</th>\n",
       "      <td>934078.44</td>\n",
       "      <td>Previous Year</td>\n",
       "      <td>NaN</td>\n",
       "    </tr>\n",
       "    <tr>\n",
       "      <th>California</th>\n",
       "      <td>546878.78</td>\n",
       "      <td>Previous Year</td>\n",
       "      <td>NaN</td>\n",
       "    </tr>\n",
       "    <tr>\n",
       "      <th>Washington</th>\n",
       "      <td>449900.92</td>\n",
       "      <td>Previous Year</td>\n",
       "      <td>NaN</td>\n",
       "    </tr>\n",
       "  </tbody>\n",
       "</table>\n",
       "</div>"
      ],
      "text/plain": [
       "            burned_acres       category  perc_diff\n",
       "state_name                                        \n",
       "Washington    1161646.38   Current Year  24.362830\n",
       "California     848728.61   Current Year  55.195016\n",
       "Idaho          791026.11   Current Year  75.822292\n",
       "Oregon         934078.44  Previous Year        NaN\n",
       "California     546878.78  Previous Year        NaN\n",
       "Washington     449900.92  Previous Year        NaN"
      ]
     },
     "execution_count": 110,
     "metadata": {},
     "output_type": "execute_result"
    }
   ],
   "source": [
    "create_df(wild_fire_df, 2015)"
   ]
  }
 ],
 "metadata": {
  "kernelspec": {
   "display_name": "nf_sql",
   "language": "python",
   "name": "python3"
  },
  "language_info": {
   "codemirror_mode": {
    "name": "ipython",
    "version": 3
   },
   "file_extension": ".py",
   "mimetype": "text/x-python",
   "name": "python",
   "nbconvert_exporter": "python",
   "pygments_lexer": "ipython3",
   "version": "3.9.17"
  },
  "orig_nbformat": 4
 },
 "nbformat": 4,
 "nbformat_minor": 2
}
