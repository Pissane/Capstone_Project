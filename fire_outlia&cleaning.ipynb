{
 "cells": [
  {
   "cell_type": "markdown",
   "metadata": {},
   "source": [
    "Import needed libaries"
   ]
  },
  {
   "cell_type": "code",
   "execution_count": 1,
   "metadata": {},
   "outputs": [],
   "source": [
    "from dotenv import dotenv_values\n",
    "import sqlalchemy\n",
    "import pandas as pd\n",
    "import sql_functions as sf\n",
    "import matplotlib.pyplot as plt"
   ]
  },
  {
   "cell_type": "markdown",
   "metadata": {},
   "source": [
    "Define schema & engine to call df from Database"
   ]
  },
  {
   "cell_type": "code",
   "execution_count": 2,
   "metadata": {},
   "outputs": [],
   "source": [
    "schema = 'capstone_wildfire'\n",
    "engine = sf.get_engine()"
   ]
  },
  {
   "cell_type": "markdown",
   "metadata": {},
   "source": [
    "Define the table & query "
   ]
  },
  {
   "cell_type": "code",
   "execution_count": 3,
   "metadata": {},
   "outputs": [],
   "source": [
    "sql_query = f'select * from {schema}.fires_data_v1_rdy_to_clean_rows;'"
   ]
  },
  {
   "cell_type": "markdown",
   "metadata": {},
   "source": [
    "Get datatable as dataframe"
   ]
  },
  {
   "cell_type": "code",
   "execution_count": 4,
   "metadata": {},
   "outputs": [],
   "source": [
    "wild_fire_df = sf.get_dataframe(sql_query)"
   ]
  },
  {
   "cell_type": "code",
   "execution_count": null,
   "metadata": {},
   "outputs": [],
   "source": [
    "def create_trend_df(wildfire_df, input_year):\n",
    "\n",
    "  # Convert date column to datetime \n",
    "  wildfire_df['combined_discovery_date'] = pd.to_datetime(wildfire_df['combined_discovery_date'])\n",
    "\n",
    "  # Get total fires per state per year\n",
    "  yearly_counts = wildfire_df.groupby(['state_name', wildfire_df['combined_discovery_date'].dt.year])['unique_id'].count().reset_index(name='unique_id')\n",
    "\n",
    "  # Get top 10 states by average fires per year\n",
    "  state_avg = yearly_counts.groupby('state_name')['unique_id'].mean().sort_values(ascending=False)\n",
    "  \n",
    "  # Get top state names\n",
    "  top_states = state_avg.index\n",
    "\n",
    "  # Create output DataFrame\n",
    "  output = pd.DataFrame({\n",
    "    'category': ['20 Year AVG']*len(top_states),\n",
    "    'state': top_states,\n",
    "    'total_avg': state_avg.values\n",
    "  })\n",
    "\n",
    "  return output"
   ]
  },
  {
   "cell_type": "code",
   "execution_count": null,
   "metadata": {},
   "outputs": [],
   "source": [
    "create_trend_df(wild_fire_df,2015)"
   ]
  },
  {
   "cell_type": "code",
   "execution_count": null,
   "metadata": {},
   "outputs": [],
   "source": [
    "def create_trend_df_avgburn(wildfire_df, input_year):\n",
    "\n",
    "  # Calculate 20 year averages \n",
    "  yearly_data = wildfire_df.groupby(['state_name', wildfire_df['combined_discovery_date'].dt.year]).agg({'burning_time':'sum', 'unique_id':'count'}).reset_index()\n",
    "\n",
    "  yearly_data['avg_burning_time'] = yearly_data['burning_time'] / yearly_data['unique_id']\n",
    "\n",
    "  state_avg = yearly_data.groupby('state_name')['avg_burning_time'].mean().sort_values(ascending=False)\n",
    "\n",
    "  # Output as numbers not lists\n",
    "  output = pd.DataFrame({\n",
    "    'category': ['20 Year AVG']*len(state_avg),\n",
    "    'state': state_avg.index,\n",
    "    'total_avg': state_avg.values\n",
    "  })\n",
    "\n",
    "  return output"
   ]
  },
  {
   "cell_type": "code",
   "execution_count": null,
   "metadata": {},
   "outputs": [],
   "source": [
    "create_trend_df_avgburn(wild_fire_df,2015)"
   ]
  },
  {
   "cell_type": "code",
   "execution_count": null,
   "metadata": {},
   "outputs": [],
   "source": [
    "import pandas as pd\n",
    "\n",
    "def create_trend_df_avgsize(wildfire_df):\n",
    "\n",
    "  # Calculate averages only for fire_size\n",
    "  yearly_data = wildfire_df.groupby(['state_name', wildfire_df['combined_discovery_date'].dt.year]).agg({'fire_size':'sum', 'unique_id':'count'}).reset_index()\n",
    "\n",
    "  yearly_data['avg_fire_size'] = yearly_data['fire_size'] / yearly_data['unique_id']\n",
    "\n",
    "  state_avg_size = yearly_data.groupby('state_name')['avg_fire_size'].mean().sort_values(ascending=False)\n",
    "\n",
    "  # Construct output DataFrame\n",
    "  output = pd.DataFrame({\n",
    "    'category': ['20 Year AVG Size']*len(state_avg_size), \n",
    "    'state': state_avg_size.index,\n",
    "    'total_avg': state_avg_size.values\n",
    "  })\n",
    "\n",
    "  return output"
   ]
  },
  {
   "cell_type": "code",
   "execution_count": null,
   "metadata": {},
   "outputs": [],
   "source": [
    "create_trend_df_avgsize(wild_fire_df)"
   ]
  },
  {
   "cell_type": "code",
   "execution_count": null,
   "metadata": {},
   "outputs": [],
   "source": [
    "import pandas as pd\n",
    "\n",
    "df_size = create_trend_df_avgsize(wild_fire_df)\n",
    "\n",
    "df_avg = create_trend_df_avgburn(wild_fire_df, 2015)\n",
    "\n",
    "df_burn = create_trend_df_avgburn(wild_fire_df, 2015)\n",
    "\n",
    "# Rest of logic with df_size, df_avg, df_burn\n",
    "\n",
    "points_size = {state:index for index, state in enumerate(df_size['state'])}\n",
    "points_avg = {state:index for index, state in enumerate(df_avg['state'])}\n",
    "points_burn = {state:index for index, state in enumerate(df_burn['state'])}\n",
    "\n",
    "state_points = {}\n",
    "for state in df_size['state']:\n",
    "  if state not in state_points:\n",
    "     state_points[state] = 0\n",
    "  state_points[state] += points_size[state]\n",
    "  state_points[state] += points_avg[state]\n",
    "  state_points[state] += points_burn[state]\n",
    "\n",
    "top_5 = sorted(state_points, key=state_points.get)[:5]  \n",
    "print(top_5)"
   ]
  },
  {
   "cell_type": "code",
   "execution_count": null,
   "metadata": {},
   "outputs": [],
   "source": [
    "import pandas as pd\n",
    "\n",
    "df_size = create_trend_df_avgsize(wild_fire_df)\n",
    "df_avg = create_trend_df_avgburn(wild_fire_df, 2015) \n",
    "df_burn = create_trend_df_avgburn(wild_fire_df, 2015)\n",
    "\n",
    "# Get total points per state\n",
    "state_points = {}\n",
    "for _, row in df_size.iterrows():\n",
    "  state = row['state']\n",
    "  if state not in state_points:\n",
    "     state_points[state] = 0\n",
    "  state_points[state] += 1\n",
    "\n",
    "for _, row in df_avg.iterrows():\n",
    "  state = row['state']\n",
    "  if state not in state_points:\n",
    "     state_points[state] = 0\n",
    "  state_points[state] += 1\n",
    "  \n",
    "for _, row in df_burn.iterrows():\n",
    "  state = row['state']\n",
    "  if state not in state_points:\n",
    "     state_points[state] = 0\n",
    "  state_points[state] += 1\n",
    "  \n",
    "# Create dataframe  \n",
    "df = pd.DataFrame.from_dict(state_points, orient='index', columns=['points']) \n",
    "\n",
    "# Get bottom 5 states by points\n",
    "bottom_5 = df.nsmallest(5, 'points')\n",
    "print(bottom_5)"
   ]
  }
 ],
 "metadata": {
  "kernelspec": {
   "display_name": "nf_sql",
   "language": "python",
   "name": "python3"
  },
  "language_info": {
   "codemirror_mode": {
    "name": "ipython",
    "version": 3
   },
   "file_extension": ".py",
   "mimetype": "text/x-python",
   "name": "python",
   "nbconvert_exporter": "python",
   "pygments_lexer": "ipython3",
   "version": "3.9.17"
  },
  "orig_nbformat": 4
 },
 "nbformat": 4,
 "nbformat_minor": 2
}
